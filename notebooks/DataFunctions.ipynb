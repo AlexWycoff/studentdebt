{
 "cells": [
  {
   "cell_type": "markdown",
   "id": "aabaf31a",
   "metadata": {},
   "source": [
    "## Functions\n",
    "\n",
    "In this notebook, we lay out functions that we will use in other notebooks to clean, sort, analyze and visualize data."
   ]
  },
  {
   "cell_type": "code",
   "execution_count": 2,
   "id": "785b3f2e",
   "metadata": {},
   "outputs": [],
   "source": [
    "import pandas as pd\n",
    "import numpy as np\n",
    "from glob import glob\n",
    "import matplotlib.pyplot as plt\n",
    "from scipy.interpolate import InterpolatedUnivariateSpline as Spline\n",
    "import matplotlib as mpl\n",
    "import seaborn as sns\n",
    "import geopandas as gpd"
   ]
  },
  {
   "cell_type": "code",
   "execution_count": 3,
   "id": "4338283d",
   "metadata": {},
   "outputs": [
    {
     "name": "stderr",
     "output_type": "stream",
     "text": [
      "C:\\Users\\shell\\AppData\\Local\\Temp\\ipykernel_16604\\1312904440.py:1: DtypeWarning: Columns (8) have mixed types. Specify dtype option on import or set low_memory=False.\n",
      "  sipp_2014_2021 = pd.read_csv(r\"C:\\Users\\shell\\Python stuff\\SIPP data\\SIPP_2014_2021.txt\", index_col=0)\n"
     ]
    }
   ],
   "source": [
    "sipp_2014_2021 = pd.read_csv(r\"C:\\Users\\shell\\Python stuff\\SIPP data\\SIPP_2014_2021.txt\", index_col=0)\n",
    "NPSAS = pd.read_csv(r\"C:\\Users\\shell\\Python stuff\\NCES DataLab Data\\datalab_completed_2015_16.csv\")"
   ]
  },
  {
   "cell_type": "markdown",
   "id": "e6796b36",
   "metadata": {},
   "source": [
    "Functions intended for use with the SIPP data:"
   ]
  },
  {
   "cell_type": "code",
   "execution_count": 5,
   "id": "989b416f",
   "metadata": {},
   "outputs": [],
   "source": [
    "def median(dataframe, independent, dependent, point):\n",
    "    '''\n",
    "    Finds the median value of the dependent variable at the point given for the independent variable\n",
    "    '''\n",
    "    df = dataframe\n",
    "    df = df[df[independent] == point]\n",
    "    if df[dependent].median() > 0:\n",
    "        return df[dependent].median()\n",
    "    else:\n",
    "        return -1"
   ]
  },
  {
   "cell_type": "code",
   "execution_count": 6,
   "id": "e74f5ff8",
   "metadata": {},
   "outputs": [],
   "source": [
    "def average(list):\n",
    "    if len(list) != 0:\n",
    "        return sum(list) / len(list)\n",
    "    else:\n",
    "        return 0\n",
    "\n",
    "def list_avg(dataframe, independent, dependent, point):\n",
    "    '''\n",
    "    Finds the average value of the dependent variable at the point given for the independent variable\n",
    "    '''\n",
    "    df = dataframe\n",
    "    df = df[df[independent] == point]\n",
    "    if average(df[dependent]) > 0:\n",
    "        return average(df[dependent])\n",
    "    else:\n",
    "        return -1"
   ]
  },
  {
   "cell_type": "code",
   "execution_count": 58,
   "id": "a84191ab",
   "metadata": {},
   "outputs": [],
   "source": [
    "def mean_sort_by(dataframe, independent, dependent):\n",
    "    '''\n",
    "    Sorts a dataframe such that it compares the indpendent variable to the mean of the dependent variable\n",
    "    '''\n",
    "    df = dataframe\n",
    "    df = df.fillna(-1)\n",
    "    df[independent] = df[independent].astype('int')\n",
    "    df = df[(df['MONTHCODE'] == 1) & (df['EEDUC'] == 43) & (df[dependent] > 0) & (df[independent] > 0)]\n",
    "    new_df = pd.DataFrame()\n",
    "    new_df[independent] = range(df[independent].min(), (df[independent].max()+1))\n",
    "    \n",
    "    total_list = []\n",
    "    for x in range(df[independent].min(), (df[independent].max()+1)):\n",
    "        total_df = df[df[independent] == x]\n",
    "        total_list.append(sum(total_df[dependent]))\n",
    "    new_df['total ' + dependent] = total_list\n",
    "    \n",
    "    percent_list = []\n",
    "    for x in range(df[independent].min(), df[independent].max()+1):\n",
    "        total = sum(new_df['total ' + dependent])\n",
    "        x_df = new_df[new_df[independent] == x]\n",
    "        percent_list.append((x_df['total ' + dependent].iloc[0] / total) * 100)\n",
    "    new_df['percent ' + dependent] = percent_list\n",
    "    \n",
    "    median_list = []\n",
    "    for point in new_df[independent]:\n",
    "        median_list.append(list_avg(df, independent, dependent, point))\n",
    "\n",
    "    new_df['mean ' + dependent] = median_list\n",
    "    \n",
    "    no_data_independent = []\n",
    "    for x in range(len(new_df.index)):\n",
    "        if len(df[(df[independent] == new_df[independent].iloc[x])].index) < 10:\n",
    "            no_data_independent.append(x)\n",
    "    new_df.drop(index=no_data_independent, axis='index', inplace=True)\n",
    "\n",
    "    return new_df"
   ]
  },
  {
   "cell_type": "code",
   "execution_count": 12,
   "id": "5b6b4052",
   "metadata": {},
   "outputs": [],
   "source": [
    "def median_sort_by(dataframe, independent, dependent):\n",
    "    '''\n",
    "    Sorts a dataframe such that it compares the indpendent variable to the median of the dependent variable\n",
    "    '''\n",
    "    df = dataframe\n",
    "    df = df.fillna(-1)\n",
    "    df[independent] = df[independent].astype('int')\n",
    "    df = df[(df['MONTHCODE'] == 1) & (df['EEDUC'] == 43) & (df[dependent] > 0) & (df[independent] > 0)]\n",
    "    new_df = pd.DataFrame()\n",
    "    new_df[independent] = range(df[independent].min(), (df[independent].max()+1))\n",
    "    \n",
    "    total_list = []\n",
    "    for x in range(df[independent].min(), (df[independent].max()+1)):\n",
    "        total_df = df[df[independent] == x]\n",
    "        total_list.append(sum(total_df[dependent]))\n",
    "    new_df['total ' + dependent] = total_list\n",
    "    \n",
    "    percent_list = []\n",
    "    for x in range(df[independent].min(), (df[independent].max()+1)):\n",
    "        total = sum(new_df['total ' + dependent])\n",
    "        x_df = new_df[new_df[independent] == x]\n",
    "        percent_list.append((x_df['total ' + dependent].iloc[0] / total) * 100)\n",
    "    new_df['percent ' + dependent] = percent_list\n",
    "    \n",
    "    median_list = []\n",
    "    for point in new_df[independent]:\n",
    "        median_list.append(median(df, independent, dependent, point))\n",
    "\n",
    "    new_df['median ' + dependent] = median_list\n",
    "    \n",
    "    no_data_independent = []\n",
    "    for x in range(len(new_df.index)):\n",
    "        if len(df[(df[independent] == new_df[independent].iloc[x])].index) < 10:\n",
    "            no_data_independent.append(x)\n",
    "    new_df.drop(index=no_data_independent, axis='index', inplace=True)\n",
    "    \n",
    "    new_df[new_df == 0] = np.nan\n",
    "    new_df[new_df == -1] = np.nan\n",
    "    \n",
    "    return new_df"
   ]
  },
  {
   "cell_type": "code",
   "execution_count": 9,
   "id": "824e875c",
   "metadata": {},
   "outputs": [],
   "source": [
    "def mean_bar_graph(dataframe, independent, dependent, title, xlab, ylab):\n",
    "    df = mean_sort_by(dataframe, independent, dependent)\n",
    "    plt.bar(df[independent], df['median ' + dependent])\n",
    "    plt.title(title)\n",
    "    plt.xlabel(xlab)\n",
    "    plt.ylabel(ylab)\n",
    "    plt.show()\n",
    "    return plt.bar(df[independent], df['median ' + dependent])"
   ]
  },
  {
   "cell_type": "code",
   "execution_count": 10,
   "id": "28f019f6",
   "metadata": {},
   "outputs": [],
   "source": [
    "def median_spline(dataframe, independent, dependent, title, xlab, ylab):\n",
    "\n",
    "    dataframe = median_sort_by(dataframe, independent, dependent)\n",
    "    dependent = 'median ' + dependent\n",
    "    x=np.linspace(dataframe[independent].min(), dataframe[independent].max(), 1000)\n",
    "    spl = Spline(dataframe[independent], dataframe[dependent])\n",
    "    plt.plot(x, spl(x))\n",
    "    \n",
    "    # fractions have no practical use, they're used for graph cleanliness\n",
    "    dependent_fraction = (dataframe[dependent].max() - dataframe[dependent].min())*0.05\n",
    "    independent_fraction = (dataframe[independent].max() - dataframe[independent].min())*0.05\n",
    "    \n",
    "    plt.ylim(dataframe[dependent].min() - dependent_fraction, dataframe[dependent].max() + dependent_fraction)\n",
    "    plt.xlim(dataframe[independent].min() - independent_fraction, dataframe[independent].max() + independent_fraction)\n",
    "    plt.xlabel(xlab)\n",
    "    plt.ylabel(ylab)\n",
    "    plt.title(title)\n",
    "    \n",
    "    plt.show()"
   ]
  },
  {
   "cell_type": "code",
   "execution_count": 11,
   "id": "e33e70ca",
   "metadata": {},
   "outputs": [],
   "source": [
    "def median_regression(dataframe, independent, dependent, title, xlab, ylab, degree):\n",
    "    '''\n",
    "    Graphs the given dataframe and it's polynomial regression. \n",
    "    Dataframe must contain only the dependent and independent columns.\n",
    "    '''\n",
    "    dataframe = median_sort_by(dataframe, independent, dependent)\n",
    "    mdep = 'median ' + dependent\n",
    "    dataframe = dataframe[dataframe[mdep] > 0]\n",
    "    \n",
    "    coefficients = np.polyfit(x=dataframe[independent], y=dataframe[mdep], deg=degree)\n",
    "    function = np.poly1d(coefficients)\n",
    "    \n",
    "    x=np.linspace(dataframe[independent].min(), dataframe[independent].max(), 1000)\n",
    "    y=function(x)\n",
    "    \n",
    "    # fractions have no practical use, they're used for graph cleanliness\n",
    "    dependent_fraction = (dataframe[mdep].max() - dataframe[mdep].min())*0.05\n",
    "    independent_fraction = (dataframe[independent].max() - dataframe[independent].min())*0.05\n",
    "    \n",
    "    plt.ylim(dataframe[mdep].min() - dependent_fraction, dataframe[mdep].max() + dependent_fraction)\n",
    "    plt.xlim(dataframe[independent].min() - independent_fraction, dataframe[independent].max() + independent_fraction)\n",
    "    plt.xlabel(xlab)\n",
    "    plt.ylabel(ylab)\n",
    "    plt.title(title)\n",
    "    \n",
    "    #plt.plot(x, y)\n",
    "    plt.scatter(x=dataframe[independent], y=dataframe[mdep],s=(dataframe['total ' + dependent] / 1000))\n",
    "    \n",
    "    plt.show()"
   ]
  },
  {
   "cell_type": "code",
   "execution_count": 16,
   "id": "76ef9a82",
   "metadata": {},
   "outputs": [],
   "source": [
    "def sipp_clean(df):\n",
    "    df = df[(df['EEDUC'] == 43) & (df['MONTHCODE'] == 1)]\n",
    "    return df"
   ]
  },
  {
   "cell_type": "code",
   "execution_count": 17,
   "id": "2a477630",
   "metadata": {},
   "outputs": [],
   "source": [
    "def group_age(dataframe):\n",
    "    df = dataframe\n",
    "\n",
    "    for x in range(len(df.index)):\n",
    "        if df['TAGE'].iloc[x] < 24:\n",
    "            df.iloc[x, df.columns.get_loc('TAGE')] = '<25'\n",
    "        \n",
    "        elif df['TAGE'].iloc[x] < 35:\n",
    "            df.iloc[x, df.columns.get_loc('TAGE')] = '25 - 34'\n",
    "        \n",
    "        elif df['TAGE'].iloc[x] < 50:\n",
    "            df.iloc[x, df.columns.get_loc('TAGE')] = '35 - 49'\n",
    "        \n",
    "        elif df['TAGE'].iloc[x] < 62:\n",
    "            df.iloc[x, df.columns.get_loc('TAGE')] = '50 - 61'\n",
    "        \n",
    "        else:\n",
    "            df.iloc[x, df.columns.get_loc('TAGE')] = '>61'\n",
    "    return df"
   ]
  },
  {
   "cell_type": "code",
   "execution_count": 23,
   "id": "7583e26a",
   "metadata": {},
   "outputs": [],
   "source": [
    "def age_percent_total(dataframe):\n",
    "    df = dataframe[dataframe['TOEDDEBTVAL'] > 0]\n",
    "    \n",
    "    total = sum(df['TOEDDEBTVAL'])\n",
    "    new_df = pd.DataFrame()\n",
    "    new_df['TAGE'] = ['<25', '25 - 34', '35 - 49', '50 - 61', '>61']\n",
    "    \n",
    "    total_list = []\n",
    "    for x in ['<25', '25 - 34', '35 - 49', '50 - 61', '>61']:\n",
    "        total_df = df[df['TAGE'] == x]\n",
    "        total_list.append((sum(total_df['TOEDDEBTVAL']) / total) * 100)\n",
    "    new_df['percent of total debt'] = total_list\n",
    "    return new_df"
   ]
  },
  {
   "cell_type": "markdown",
   "id": "87cb0147",
   "metadata": {},
   "source": [
    "Functions intended for use with the NCES's NPSAS 2015-2016 data:"
   ]
  },
  {
   "cell_type": "code",
   "execution_count": 3,
   "id": "d76fe308",
   "metadata": {},
   "outputs": [],
   "source": [
    "def datalab_round(dataframe):\n",
    "    '''\n",
    "    Rounds all values of the data to remove floating points\n",
    "    '''\n",
    "    df = dataframe\n",
    "    df = df.fillna(-1)\n",
    "    for x in range(len(df.index)):\n",
    "        for y in range(2, len(df.columns)):\n",
    "            df.iloc[x, y] = int(round(float(df.iloc[x, y]), 2))\n",
    "    return df"
   ]
  },
  {
   "cell_type": "code",
   "execution_count": 16,
   "id": "9bff494d",
   "metadata": {},
   "outputs": [],
   "source": [
    "def datalab_bar_graph(dataframe, category, zeroes, title, xlab, ylab):\n",
    "    '''\n",
    "    Graphs a category from the NPSAS data.\n",
    "    Zeroes is a true or false value indicating\n",
    "    whether or not to include zeroes in averages.\n",
    "    '''\n",
    "    df = dataframe\n",
    "    values_df = df.iloc[:, range(2, len(df.columns))]\n",
    "    values_df = values_df[values_df != -1]\n",
    "    values_df = values_df[values_df != 0]\n",
    "    df.iloc[:, range(2, len(df.columns))] = values_df\n",
    "    # discards -1 and 0 values from rounding process, replacing them with NAN values that are automaatically ignored by Pandas \n",
    "    \n",
    "    df = df[df['Category'] == category]\n",
    "    if zeroes:\n",
    "        plt.bar(df['Value'], df['Amount still owed on all undergraduate loans ( Average )'])\n",
    "    elif not zeroes:\n",
    "        plt.bar(df['Value'], df['Amount still owed on all undergraduate loans ( Average Without Zeros )'])\n",
    "    \n",
    "    plt.title(title)\n",
    "    plt.xlabel(xlab)\n",
    "    plt.ylabel(ylab)\n",
    "    plt.show"
   ]
  },
  {
   "cell_type": "markdown",
   "id": "56538d88",
   "metadata": {},
   "source": [
    "Functions intended for general use"
   ]
  },
  {
   "cell_type": "code",
   "execution_count": 15,
   "id": "b8c624f1",
   "metadata": {},
   "outputs": [],
   "source": [
    "def color_one(x, num, color):\n",
    "    for x in range(x):\n",
    "        if x == num:\n",
    "            bars[x].set_color(color)\n",
    "        else:\n",
    "            bars[x].set_color('gray')"
   ]
  },
  {
   "cell_type": "code",
   "execution_count": null,
   "id": "f968d1b2",
   "metadata": {},
   "outputs": [],
   "source": []
  }
 ],
 "metadata": {
  "kernelspec": {
   "display_name": "Python 3 (ipykernel)",
   "language": "python",
   "name": "python3"
  },
  "language_info": {
   "codemirror_mode": {
    "name": "ipython",
    "version": 3
   },
   "file_extension": ".py",
   "mimetype": "text/x-python",
   "name": "python",
   "nbconvert_exporter": "python",
   "pygments_lexer": "ipython3",
   "version": "3.10.9"
  }
 },
 "nbformat": 4,
 "nbformat_minor": 5
}
