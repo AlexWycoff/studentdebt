{
 "cells": [
  {
   "cell_type": "code",
   "execution_count": 1,
   "id": "dde6a2ce",
   "metadata": {},
   "outputs": [],
   "source": [
    "import pandas as pd\n",
    "import numpy as np\n",
    "from glob import glob\n",
    "import matplotlib.pyplot as plt\n",
    "from scipy.interpolate import InterpolatedUnivariateSpline as Spline\n",
    "import matplotlib as mpl\n",
    "import seaborn as sns"
   ]
  },
  {
   "cell_type": "code",
   "execution_count": 2,
   "id": "6d20f6f1",
   "metadata": {},
   "outputs": [
    {
     "name": "stderr",
     "output_type": "stream",
     "text": [
      "C:\\Users\\shell\\AppData\\Local\\Temp\\ipykernel_28432\\2729473935.py:1: DtypeWarning: Columns (8) have mixed types. Specify dtype option on import or set low_memory=False.\n",
      "  sipp_2014_2021 = pd.read_csv(r\"C:\\Users\\shell\\OneDrive\\OrganizeMe\\Documents\\GitHub\\studentdebt\\SIPP data\\SIPP_2014_2021.txt\", index_col=0)\n"
     ]
    }
   ],
   "source": [
    "sipp_2014_2021 = pd.read_csv(r\"C:\\Users\\shell\\OneDrive\\OrganizeMe\\Documents\\GitHub\\studentdebt\\SIPP data\\SIPP_2014_2021.txt\", index_col=0)\n",
    "datalab = pd.read_csv(r\"D:\\NCES DataLab Data\\DataLab_undergrad_completed.csv\")"
   ]
  },
  {
   "cell_type": "markdown",
   "id": "e5339203",
   "metadata": {},
   "source": [
    "Functions intended for use with the SIPP data:"
   ]
  },
  {
   "cell_type": "code",
   "execution_count": 3,
   "id": "fd14fea2",
   "metadata": {},
   "outputs": [],
   "source": [
    "def median(dataframe, independent, dependent, point):\n",
    "    '''\n",
    "    Finds the median value of the dependent variable at the point given for the independent variable\n",
    "    '''\n",
    "    df = dataframe\n",
    "    df = df[df[independent] == point]\n",
    "    if df[dependent].median() > 0:\n",
    "        return df[dependent].median()\n",
    "    else:\n",
    "        return 0"
   ]
  },
  {
   "cell_type": "code",
   "execution_count": 4,
   "id": "f1356035",
   "metadata": {},
   "outputs": [],
   "source": [
    "def median_sort_by(dataframe, independent, dependent):\n",
    "    '''\n",
    "    Sorts a dataframe such that it compares the indpendent variable to the median of the dependent variable\n",
    "    '''\n",
    "    df = dataframe\n",
    "    df[independent] = df[independent].fillna(-1)\n",
    "    df[independent] = df[independent].astype('int')\n",
    "    df = df[(df['MONTHCODE'] == 1) & (df['EEDUC'] == 42) & (df[dependent] > 0) & (df[independent] > 0)]\n",
    "    \n",
    "    new_df = pd.DataFrame()\n",
    "    new_df[independent] = range(df[independent].min(), (df[independent].max()+1))\n",
    "    median_list = []\n",
    "    for point in new_df[independent]:\n",
    "        median_list.append(median(dataframe, independent, dependent, point))\n",
    "\n",
    "    new_df['median ' + dependent] = median_list\n",
    "    \n",
    "    no_data_independent = []\n",
    "    for x in new_df[independent]:\n",
    "        if len(df[(df[dependent] == x)].index) < 10:\n",
    "            no_data_independent.append(x)\n",
    "    # new_df.drop(index=no_data_independent, axis='index', inplace=True)\n",
    "    return new_df"
   ]
  },
  {
   "cell_type": "code",
   "execution_count": 5,
   "id": "c5bbd8c4",
   "metadata": {},
   "outputs": [],
   "source": [
    "def median_bar_graph(dataframe, independent, dependent, title, xlab, ylab):\n",
    "    df = median_sort_by(dataframe, independent, dependent)\n",
    "    plt.bar(df[independent], df['median ' + dependent])\n",
    "    plt.title(title)\n",
    "    plt.xlabel(xlab)\n",
    "    plt.ylabel(ylab)\n",
    "    plt.show()"
   ]
  },
  {
   "cell_type": "markdown",
   "id": "304c08f9",
   "metadata": {},
   "source": [
    "Functions intended for use with the NCES's NPSAS 2015-2016 data:"
   ]
  },
  {
   "cell_type": "code",
   "execution_count": 6,
   "id": "c8b987f1",
   "metadata": {},
   "outputs": [],
   "source": [
    "def datalab_round(dataframe):\n",
    "    '''\n",
    "    Rounds all values of the data to remove floating points\n",
    "    '''\n",
    "    df = dataframe\n",
    "    df = df.fillna(-1)\n",
    "    for x in range(3, len(df.index)):\n",
    "        for y in range(1, len(df.columns)):\n",
    "            df.iloc[x, y] = int(round(float(df.iloc[x, y]), 2))\n",
    "    return df"
   ]
  },
  {
   "cell_type": "code",
   "execution_count": 7,
   "id": "4dbbe90d",
   "metadata": {},
   "outputs": [],
   "source": [
    "def datalab_bar_graph(column, row_range, title, xlab, ylab):\n",
    "    '''\n",
    "    column must be a column from the dataframe, row_range must be a range() function\n",
    "    '''\n",
    "    \n",
    "    plt.bar(datalab['Variable'].iloc[row_range], \n",
    "    datalab[datalab.iloc[:, range(1, 6)] != -1].iloc[row_range, datalab.columns.get_loc(column)])\n",
    "    # discards -1 values from rounding process, replacing them with NAN values that are automaatically ignored by Pandas \n",
    "    \n",
    "    plt.title(title)\n",
    "    plt.xlabel(xlab)\n",
    "    plt.ylabel(ylab)\n",
    "    plt.show"
   ]
  }
 ],
 "metadata": {
  "kernelspec": {
   "display_name": "Python 3 (ipykernel)",
   "language": "python",
   "name": "python3"
  },
  "language_info": {
   "codemirror_mode": {
    "name": "ipython",
    "version": 3
   },
   "file_extension": ".py",
   "mimetype": "text/x-python",
   "name": "python",
   "nbconvert_exporter": "python",
   "pygments_lexer": "ipython3",
   "version": "3.10.9"
  }
 },
 "nbformat": 4,
 "nbformat_minor": 5
}
